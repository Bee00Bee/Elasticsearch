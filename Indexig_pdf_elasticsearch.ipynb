{
 "cells": [
  {
   "cell_type": "markdown",
   "id": "b607de52-b268-4615-beaf-cd1cba65ae20",
   "metadata": {},
   "source": [
    "## How to index a document by Elasticsearch Index\n",
    "more information:https://kb.objectrocket.com/elasticsearch/how-to-index-a-pdf-file-as-an-elasticsearch-index-267\n"
   ]
  },
  {
   "cell_type": "code",
   "execution_count": 3,
   "id": "cfb00960-b157-41aa-84b5-fe13b26384c5",
   "metadata": {},
   "outputs": [],
   "source": [
    "# import libraries to help read and create PDF\n",
    "import PyPDF2\n",
    "from fpdf import FPDF\n",
    "import base64\n",
    "import json\n",
    "\n",
    "# import the Elasticsearch low-level client library\n",
    "from elasticsearch import Elasticsearch"
   ]
  },
  {
   "cell_type": "code",
   "execution_count": 8,
   "id": "fe2a8311-dae0-407a-9a59-00a5308134c0",
   "metadata": {},
   "outputs": [
    {
     "data": {
      "text/plain": [
       "''"
      ]
     },
     "execution_count": 8,
     "metadata": {},
     "output_type": "execute_result"
    }
   ],
   "source": [
    "# create a new PDF object with FPDF\n",
    "pdf = FPDF()\n",
    "\n",
    "# use an iterator to create 10 pages\n",
    "for page in range(10):\n",
    "    pdf.add_page()\n",
    "    pdf.set_font(\"Arial\", size=14)\n",
    "    pdf.cell(150, 12, txt=\"Object Rocket ROCKS!!\", ln=1, align=\"C\")\n",
    "\n",
    "# output all of the data to a new PDF file\n",
    "pdf.output(\"object_rocket.pdf\")    "
   ]
  },
  {
   "cell_type": "code",
   "execution_count": 11,
   "id": "58a2b001-fc57-4dc8-8dc0-457469e7d8c3",
   "metadata": {},
   "outputs": [
    {
     "name": "stdout",
     "output_type": "stream",
     "text": [
      "<PyPDF2.pdf.PdfFileReader object at 0x7f5228feb880>\n"
     ]
    }
   ],
   "source": [
    "# get the PDF path and read the file\n",
    "file = \"object_rocket.pdf\"\n",
    "read_pdf = PyPDF2.PdfFileReader(file, strict=False)\n",
    "print (read_pdf)"
   ]
  },
  {
   "cell_type": "code",
   "execution_count": 9,
   "id": "70c91f7c-dd02-4cd1-a688-f26398aeace6",
   "metadata": {},
   "outputs": [
    {
     "name": "stdout",
     "output_type": "stream",
     "text": [
      "Intro.ipynb        shakes-mapping.json    shakespeare_7.0.json\n",
      "object_rocket.pdf  shakes-mapping.json.1  Untitled.ipynb\n"
     ]
    }
   ],
   "source": [
    "ls"
   ]
  },
  {
   "cell_type": "code",
   "execution_count": 12,
   "id": "f404b931-4d66-4e85-969d-3ef7a09cf36b",
   "metadata": {},
   "outputs": [
    {
     "name": "stdout",
     "output_type": "stream",
     "text": [
      "PDF pages: 10\n",
      "/Producer PyFPDF 1.7.2 http://pyfpdf.googlecode.com/\n",
      "/CreationDate D:20220414161006\n",
      "\n",
      "JSON: {\"meta\": {\"/Producer\": \"PyFPDF 1.7.2 http://pyfpdf.googlecode.com/\", \"/CreationDate\": \"D:20220414161006\"}, \"0\": \"Object Rocket ROCKS!!\\n\", \"1\": \"Object Rocket ROCKS!!\\n\", \"2\": \"Object Rocket ROCKS!!\\n\", \"3\": \"Object Rocket ROCKS!!\\n\", \"4\": \"Object Rocket ROCKS!!\\n\", \"5\": \"Object Rocket ROCKS!!\\n\", \"6\": \"Object Rocket ROCKS!!\\n\", \"7\": \"Object Rocket ROCKS!!\\n\", \"8\": \"Object Rocket ROCKS!!\\n\", \"9\": \"Object Rocket ROCKS!!\\n\"}\n"
     ]
    }
   ],
   "source": [
    "# get the read object's meta info\n",
    "pdf_meta = read_pdf.getDocumentInfo()\n",
    "\n",
    "# get the page numbers\n",
    "num = read_pdf.getNumPages()\n",
    "print (\"PDF pages:\", num)\n",
    "\n",
    "# create a dictionary object for page data\n",
    "all_pages = {}\n",
    "\n",
    "# put meta data into a dict key\n",
    "all_pages[\"meta\"] = {}\n",
    "\n",
    "# Use 'iteritems()` instead of 'items()' for Python 2\n",
    "for meta, value in pdf_meta.items():\n",
    "    print (meta, value)\n",
    "    all_pages[\"meta\"][meta] = value\n",
    "\n",
    "# iterate the page numbers\n",
    "for page in range(num):\n",
    "    data = read_pdf.getPage(page)\n",
    "    #page_mode = read_pdf.getPageMode()\n",
    "\n",
    "    # extract the page's text\n",
    "    page_text = data.extractText()\n",
    "\n",
    "    # put the text data into the dict\n",
    "    all_pages[page] = page_text\n",
    "\n",
    "# create a JSON string from the dictionary\n",
    "json_data = json.dumps(all_pages)\n",
    "print (\"\\nJSON:\", json_data)"
   ]
  },
  {
   "cell_type": "code",
   "execution_count": 13,
   "id": "0ba888b3-8d8c-4335-9a75-ffa832d47159",
   "metadata": {},
   "outputs": [
    {
     "name": "stdout",
     "output_type": "stream",
     "text": [
      "\n",
      "bytes_string:  b'{\"meta\": {\"/Producer\": \"PyFPDF 1.7.2 http://pyfpdf.googlecode.com/\", \"/CreationDate\": \"D:20220414161006\"}, \"0\": \"Object Rocket ROCKS!!\\\\n\", \"1\": \"Object Rocket ROCKS!!\\\\n\", \"2\": \"Object Rocket ROCKS!!\\\\n\", \"3\": \"Object Rocket ROCKS!!\\\\n\", \"4\": \"Object Rocket ROCKS!!\\\\n\", \"5\": \"Object Rocket ROCKS!!\\\\n\", \"6\": \"Object Rocket ROCKS!!\\\\n\", \"7\": \"Object Rocket ROCKS!!\\\\n\", \"8\": \"Object Rocket ROCKS!!\\\\n\", \"9\": \"Object Rocket ROCKS!!\\\\n\"}'\n"
     ]
    }
   ],
   "source": [
    "bytes_string = bytes(json_data, 'utf-8')\n",
    "print('\\nbytes_string: ', bytes_string)"
   ]
  },
  {
   "cell_type": "code",
   "execution_count": null,
   "id": "0cf7d4d9-5ba3-453e-8044-1b46e5f2f955",
   "metadata": {},
   "outputs": [],
   "source": []
  }
 ],
 "metadata": {
  "kernelspec": {
   "display_name": "Python 3 (ipykernel)",
   "language": "python",
   "name": "python3"
  },
  "language_info": {
   "codemirror_mode": {
    "name": "ipython",
    "version": 3
   },
   "file_extension": ".py",
   "mimetype": "text/x-python",
   "name": "python",
   "nbconvert_exporter": "python",
   "pygments_lexer": "ipython3",
   "version": "3.9.7"
  }
 },
 "nbformat": 4,
 "nbformat_minor": 5
}
