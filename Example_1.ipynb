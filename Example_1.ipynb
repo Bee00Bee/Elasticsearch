{
 "cells": [
  {
   "cell_type": "markdown",
   "id": "d422ed25-4bee-4ff4-a479-38062cb66a31",
   "metadata": {},
   "source": [
    "## Elastic search in python 1\n",
    "for more info\n",
    "- code: https://github.com/mageirakos/elasticsearch-movies\n",
    "- data source: https://grouplens.org/datasets/movielens/"
   ]
  },
  {
   "cell_type": "code",
   "execution_count": 1,
   "id": "353a0f40-9200-45ba-98de-5893a419323f",
   "metadata": {},
   "outputs": [],
   "source": [
    "from datetime import datetime\n",
    "from elasticsearch import Elasticsearch\n",
    "es = Elasticsearch(\"http://localhost:9200\")"
   ]
  },
  {
   "cell_type": "code",
   "execution_count": 2,
   "id": "378ba51f-af8f-45e8-8a6e-7736e026c71c",
   "metadata": {},
   "outputs": [],
   "source": [
    "import os\n",
    "import pandas as pd\n"
   ]
  },
  {
   "cell_type": "code",
   "execution_count": 3,
   "id": "c9348bf0-d2fc-4e32-966c-3b79cfde6671",
   "metadata": {},
   "outputs": [],
   "source": [
    "path='/home/mn/Courses/ElasticSearch/ml-latest-small'\n",
    "file='movies.csv'\n",
    "file_name=os.path.join(path, file)"
   ]
  },
  {
   "cell_type": "code",
   "execution_count": 4,
   "id": "b384a999-3b2a-4e30-8ead-6e9cf707f9f6",
   "metadata": {},
   "outputs": [],
   "source": [
    "df_movies=pd.read_csv(file_name)"
   ]
  },
  {
   "cell_type": "code",
   "execution_count": 5,
   "id": "99c263e4-1216-4fc4-aea2-46ee5b491d6f",
   "metadata": {},
   "outputs": [
    {
     "data": {
      "text/html": [
       "<div>\n",
       "<style scoped>\n",
       "    .dataframe tbody tr th:only-of-type {\n",
       "        vertical-align: middle;\n",
       "    }\n",
       "\n",
       "    .dataframe tbody tr th {\n",
       "        vertical-align: top;\n",
       "    }\n",
       "\n",
       "    .dataframe thead th {\n",
       "        text-align: right;\n",
       "    }\n",
       "</style>\n",
       "<table border=\"1\" class=\"dataframe\">\n",
       "  <thead>\n",
       "    <tr style=\"text-align: right;\">\n",
       "      <th></th>\n",
       "      <th>movieId</th>\n",
       "      <th>title</th>\n",
       "      <th>genres</th>\n",
       "    </tr>\n",
       "  </thead>\n",
       "  <tbody>\n",
       "    <tr>\n",
       "      <th>0</th>\n",
       "      <td>1</td>\n",
       "      <td>Toy Story (1995)</td>\n",
       "      <td>Adventure|Animation|Children|Comedy|Fantasy</td>\n",
       "    </tr>\n",
       "    <tr>\n",
       "      <th>1</th>\n",
       "      <td>2</td>\n",
       "      <td>Jumanji (1995)</td>\n",
       "      <td>Adventure|Children|Fantasy</td>\n",
       "    </tr>\n",
       "    <tr>\n",
       "      <th>2</th>\n",
       "      <td>3</td>\n",
       "      <td>Grumpier Old Men (1995)</td>\n",
       "      <td>Comedy|Romance</td>\n",
       "    </tr>\n",
       "  </tbody>\n",
       "</table>\n",
       "</div>"
      ],
      "text/plain": [
       "   movieId                    title  \\\n",
       "0        1         Toy Story (1995)   \n",
       "1        2           Jumanji (1995)   \n",
       "2        3  Grumpier Old Men (1995)   \n",
       "\n",
       "                                        genres  \n",
       "0  Adventure|Animation|Children|Comedy|Fantasy  \n",
       "1                   Adventure|Children|Fantasy  \n",
       "2                               Comedy|Romance  "
      ]
     },
     "execution_count": 5,
     "metadata": {},
     "output_type": "execute_result"
    }
   ],
   "source": [
    "df_movies.head(3)"
   ]
  },
  {
   "cell_type": "code",
   "execution_count": 7,
   "id": "c1c46f55-16d1-481a-8334-5b6b7c97c304",
   "metadata": {},
   "outputs": [
    {
     "name": "stderr",
     "output_type": "stream",
     "text": [
      "/tmp/ipykernel_4474/3370894933.py:6: ElasticsearchWarning: Elasticsearch built-in security features are not enabled. Without authentication, your cluster could be accessible to anyone. See https://www.elastic.co/guide/en/elasticsearch/reference/7.17/security-minimal-setup.html to enable security.\n",
      "  helpers.bulk(es, reader, index='movies')\n"
     ]
    }
   ],
   "source": [
    "from elasticsearch import helpers, Elasticsearch\n",
    "import csv\n",
    "\n",
    "with open(file_name, encoding='utf-8') as f:\n",
    "    reader = csv.DictReader(f)\n",
    "    helpers.bulk(es, reader, index='movies')"
   ]
  },
  {
   "cell_type": "code",
   "execution_count": 8,
   "id": "0b9f1720-b617-4fef-a159-8d0fa6e7cce7",
   "metadata": {},
   "outputs": [],
   "source": [
    "def queryInput(user_input):\n",
    "    res = es.search(index=\"movies\", body={\"query\": {\"match\": {\"title\":\"{}\".format(user_input)}}}, size = 1000)\n",
    "    hits = res['hits']['total']['value']\n",
    "    print(\"Got {} Hits:\".format(hits))\n",
    "\n",
    "    # I set the maximum number of results to 1000. The default was 10. So we need to take that into account\n",
    "    try :\n",
    "        for i in range(hits):\n",
    "            print(i+1,') ',res['hits']['hits'][i]['_source']['title'])\n",
    "    except:\n",
    "        for i in range(1000):\n",
    "            print(i+1,') ',res['hits']['hits'][i]['_source']['title'])\n",
    "            \n",
    "    return"
   ]
  },
  {
   "cell_type": "code",
   "execution_count": 9,
   "id": "2a64f2a6-3af2-48a1-b549-354c6d99b1fe",
   "metadata": {},
   "outputs": [],
   "source": [
    "def queryInput2(user_input_title):\n",
    "    ''' returns the movie_Id, title and genres '''\n",
    "    # ps = per_search since BM25 _score changes depending on user_input\n",
    "    result_params_list_df_ps = []\n",
    "\n",
    "    res = es.search(index=\"movies\", body={\"query\": {\"match\": {\"title\":\"{}\".format(user_input_title)}}}, size = 1000)\n",
    "    #res2 = es.search(index=\"movies\", body={\"query\": {\"match\": {\"content\":\"{}\".format(user_input)}}}, size = 1000)\n",
    "    hits = res['hits']['total']['value']\n",
    "    #hits= res2['hits']['total']['value']\n",
    "    print(\"Got {} Hits:\".format(hits))\n",
    "\n",
    "    # I set the maximum number of results to 1000. The default was 10. So we need to take that into account\n",
    "    try :\n",
    "        for i in range(hits):          \n",
    "            temp_df = pd.DataFrame([ [ int(res['hits']['hits'][i]['_source']['movieId']), res['hits']['hits'][i]['_source']['title'], res['hits']['hits'][i]['_source']['genres'] ] ], columns=['movieId', 'title', 'genres'])\n",
    "            result_params_list_df_ps.append(temp_df)\n",
    "            \n",
    "    except:\n",
    "        for i in range(1000):\n",
    "            temp_df = pd.DataFrame([ [ int(res['hits']['hits'][i]['_source']['movieId']), res['hits']['hits'][i]['_source']['title'], res['hits']['hits'][i]['_source']['genres'] ] ], columns=['movieId', 'title', 'genres'])\n",
    "            result_params_list_df_ps.append(temp_df)\n",
    "    lst = result_params_list_df_ps\n",
    "    return  print(lst)"
   ]
  },
  {
   "cell_type": "code",
   "execution_count": 10,
   "id": "3cb4c3f5-0b38-40dd-aaee-a67142cb4353",
   "metadata": {},
   "outputs": [
    {
     "name": "stdout",
     "output_type": "stream",
     "text": [
      "type \"//exit\" if you want to exit the search\n"
     ]
    },
    {
     "name": "stdin",
     "output_type": "stream",
     "text": [
      "Which movie do you want? (by title): \n",
      " interstellar\n"
     ]
    },
    {
     "name": "stderr",
     "output_type": "stream",
     "text": [
      "/tmp/ipykernel_4474/1002140731.py:6: DeprecationWarning: The 'body' parameter is deprecated and will be removed in a future version. Instead use individual parameters.\n",
      "  res = es.search(index=\"movies\", body={\"query\": {\"match\": {\"title\":\"{}\".format(user_input_title)}}}, size = 1000)\n",
      "/tmp/ipykernel_4474/1002140731.py:6: ElasticsearchWarning: Elasticsearch built-in security features are not enabled. Without authentication, your cluster could be accessible to anyone. See https://www.elastic.co/guide/en/elasticsearch/reference/7.17/security-minimal-setup.html to enable security.\n",
      "  res = es.search(index=\"movies\", body={\"query\": {\"match\": {\"title\":\"{}\".format(user_input_title)}}}, size = 1000)\n"
     ]
    },
    {
     "name": "stdout",
     "output_type": "stream",
     "text": [
      "Got 4 Hits:\n",
      "[   movieId                title       genres\n",
      "0   109487  Interstellar (2014)  Sci-Fi|IMAX,    movieId                title       genres\n",
      "0   109487  Interstellar (2014)  Sci-Fi|IMAX,    movieId                title       genres\n",
      "0   109487  Interstellar (2014)  Sci-Fi|IMAX,    movieId                title       genres\n",
      "0   109487  Interstellar (2014)  Sci-Fi|IMAX]\n",
      "type \"//exit\" if you want to exit the search\n"
     ]
    },
    {
     "name": "stdin",
     "output_type": "stream",
     "text": [
      "Which movie do you want? (by title): \n",
      " //exit\n"
     ]
    }
   ],
   "source": [
    "print('type \"//exit\" if you want to exit the search')\n",
    "user_input= input(\"Which movie do you want? (by title): \\n\")\n",
    "\n",
    "while(user_input != '//exit'):\n",
    "    queryInput2(user_input)\n",
    "    print('type \"//exit\" if you want to exit the search')\n",
    "    user_input = input(\"Which movie do you want? (by title): \\n\")\n",
    "    "
   ]
  },
  {
   "cell_type": "markdown",
   "id": "b51294be-ac48-4478-bd03-9ff42e98a102",
   "metadata": {},
   "source": [
    "This time with match-Phrase:"
   ]
  },
  {
   "cell_type": "code",
   "execution_count": 18,
   "id": "09792a4a-8333-4f6c-802b-2eacbc996c6e",
   "metadata": {},
   "outputs": [],
   "source": [
    "def queryInput3(user_input_title):\n",
    "    ''' returns the movie_Id, title and genres '''\n",
    "    # ps = per_search since BM25 _score changes depending on user_input\n",
    "    result_params_list_df_ps = []\n",
    "\n",
    "    res = es.search(index=\"movies\", body={\"query\": {\"match_phrase\": {\"title\":\"{}\".format(user_input_title)}}}, size = 1000)\n",
    "    #res2 = es.search(index=\"movies\", body={\"query\": {\"match\": {\"content\":\"{}\".format(user_input)}}}, size = 1000)\n",
    "    hits = res['hits']['total']['value']\n",
    "    #hits= res2['hits']['total']['value']\n",
    "    print(\"Got {} Hits:\".format(hits))\n",
    "\n",
    "    # I set the maximum number of results to 1000. The default was 10. So we need to take that into account\n",
    "    try :\n",
    "        for i in range(hits):          \n",
    "            temp_df = pd.DataFrame([ [ int(res['hits']['hits'][i]['_source']['movieId']), res['hits']['hits'][i]['_source']['title'], res['hits']['hits'][i]['_source']['genres'] ] ], columns=['movieId', 'title', 'genres'])\n",
    "            result_params_list_df_ps.append(temp_df)\n",
    "            \n",
    "    except:\n",
    "        for i in range(1000):\n",
    "            temp_df = pd.DataFrame([ [ int(res['hits']['hits'][i]['_source']['movieId']), res['hits']['hits'][i]['_source']['title'], res['hits']['hits'][i]['_source']['genres'] ] ], columns=['movieId', 'title', 'genres'])\n",
    "            result_params_list_df_ps.append(temp_df)\n",
    "    lst = result_params_list_df_ps\n",
    "    return  print(lst)"
   ]
  },
  {
   "cell_type": "code",
   "execution_count": 20,
   "id": "9151d8d9-720b-4ca7-8307-3162f58d866c",
   "metadata": {},
   "outputs": [
    {
     "name": "stdout",
     "output_type": "stream",
     "text": [
      "type \"//exit\" if you want to exit the search\n"
     ]
    },
    {
     "name": "stdin",
     "output_type": "stream",
     "text": [
      "Which movie do you want? (by title): \n",
      " interstellar\n"
     ]
    },
    {
     "name": "stderr",
     "output_type": "stream",
     "text": [
      "/tmp/ipykernel_4474/87324818.py:6: DeprecationWarning: The 'body' parameter is deprecated and will be removed in a future version. Instead use individual parameters.\n",
      "  res = es.search(index=\"movies\", body={\"query\": {\"match_phrase\": {\"title\":\"{}\".format(user_input_title)}}}, size = 1000)\n",
      "/tmp/ipykernel_4474/87324818.py:6: ElasticsearchWarning: Elasticsearch built-in security features are not enabled. Without authentication, your cluster could be accessible to anyone. See https://www.elastic.co/guide/en/elasticsearch/reference/7.17/security-minimal-setup.html to enable security.\n",
      "  res = es.search(index=\"movies\", body={\"query\": {\"match_phrase\": {\"title\":\"{}\".format(user_input_title)}}}, size = 1000)\n"
     ]
    },
    {
     "name": "stdout",
     "output_type": "stream",
     "text": [
      "Got 4 Hits:\n",
      "[   movieId                title       genres\n",
      "0   109487  Interstellar (2014)  Sci-Fi|IMAX,    movieId                title       genres\n",
      "0   109487  Interstellar (2014)  Sci-Fi|IMAX,    movieId                title       genres\n",
      "0   109487  Interstellar (2014)  Sci-Fi|IMAX,    movieId                title       genres\n",
      "0   109487  Interstellar (2014)  Sci-Fi|IMAX]\n",
      "type \"//exit\" if you want to exit the search\n"
     ]
    },
    {
     "name": "stdin",
     "output_type": "stream",
     "text": [
      "Which movie do you want? (by title): \n",
      " //exit\n"
     ]
    }
   ],
   "source": [
    "print('type \"//exit\" if you want to exit the search')\n",
    "user_input= input(\"Which movie do you want? (by title): \\n\")\n",
    "\n",
    "while(user_input != '//exit'):\n",
    "    queryInput3(user_input)\n",
    "    print('type \"//exit\" if you want to exit the search')\n",
    "    user_input = input(\"Which movie do you want? (by title): \\n\")\n",
    "    "
   ]
  },
  {
   "cell_type": "code",
   "execution_count": 21,
   "id": "21101dc1-28c2-4bae-ba17-4d0e2e164798",
   "metadata": {},
   "outputs": [],
   "source": [
    "def queryInput3(user_input_title, user_input_genre):\n",
    "    ''' returns the movie_Id, title and genres '''\n",
    "    # ps = per_search since BM25 _score changes depending on user_input\n",
    "    result_params_list_df_ps = []\n",
    "\n",
    "    res = es.search(index=\"movies\", body={\n",
    "        \"mappings\": {\"properties\": {\n",
    "            \"genres\":\"{}\".format(user_input_genre),\n",
    "            \"title\":\"{}\".format(user_input_title)}}}, size = 1000)\n",
    "    \n",
    "    hits = res['hits']['total']['value']\n",
    "    #hits= res2['hits']['total']['value']\n",
    "    print(\"Got {} Hits:\".format(hits))\n",
    "\n",
    "    # I set the maximum number of results to 1000. The default was 10. So we need to take that into account\n",
    "    try :\n",
    "        for i in range(hits):          \n",
    "            temp_df = pd.DataFrame([ [ int(res['hits']['hits'][i]['_source']['movieId']), res['hits']['hits'][i]['_source']['title'], res['hits']['hits'][i]['_source']['genres'] ] ], columns=['movieId', 'title', 'genres'])\n",
    "            result_params_list_df_ps.append(temp_df)\n",
    "            \n",
    "    except:\n",
    "        for i in range(1000):\n",
    "            temp_df = pd.DataFrame([ [ int(res['hits']['hits'][i]['_source']['movieId']), res['hits']['hits'][i]['_source']['title'], res['hits']['hits'][i]['_source']['genres'] ] ], columns=['movieId', 'title', 'genres'])\n",
    "            result_params_list_df_ps.append(temp_df)\n",
    "    lst = result_params_list_df_ps\n",
    "    return  print(lst)"
   ]
  },
  {
   "cell_type": "code",
   "execution_count": 23,
   "id": "5596c3d3-24cc-45f3-b7ae-44f6dd061ad2",
   "metadata": {},
   "outputs": [
    {
     "name": "stdout",
     "output_type": "stream",
     "text": [
      "type \"//exit\" if you want to exit the search\n"
     ]
    },
    {
     "name": "stdin",
     "output_type": "stream",
     "text": [
      "Which movie do you want? (by title): \n",
      " interstellar\n",
      "Which movie do you want? (by genre): \n",
      " Sci-Fi\n"
     ]
    }
   ],
   "source": [
    "print('type \"//exit\" if you want to exit the search')\n",
    "user_input_title= input(\"Which movie do you want? (by title): \\n\")\n",
    "user_input_genre= input(\"Which movie do you want? (by genre): \\n\")\n",
    "while(user_input != '//exit'):\n",
    "    queryInput3(user_input_title, user_input_genre)\n",
    "    print('type \"//exit\" if you want to exit the search')\n",
    "    user_input_title = input(\"Which movie do you want? (by title): \\n\")\n",
    "    user_input_genre= input(\"Which movie do you want? (by genre): \\n\")"
   ]
  },
  {
   "cell_type": "code",
   "execution_count": 24,
   "id": "562ba1c5-6889-4dd0-9361-53b92a0932fc",
   "metadata": {},
   "outputs": [
    {
     "name": "stdout",
     "output_type": "stream",
     "text": [
      "yellow open tutorial-1           -Z9W6iLUTHmegu0QZyGW6g 1 1      0  0   226b   226b\n",
      "yellow open tutorieal-1          ExCC-P1yRSyTt30eFhpvoQ 1 1      0  0   226b   226b\n",
      "yellow open hr                   lS8BE3xVT3Ok_5Fbw6pyIw 1 1      0  0   226b   226b\n",
      "yellow open employee             VGLlHPRSShSJVFVH0yinkQ 1 1      0  0   226b   226b\n",
      "yellow open sales                69LDlmrgQYObdQKb5hwIKg 1 1      0  0   226b   226b\n",
      "yellow open index_1              M6xBjdnkT3iVaIMS39orEg 1 1      0  0   226b   226b\n",
      "yellow open movies               NpvpjcETQbqmnhZIpQodww 1 1  38968  0  5.4mb  5.4mb\n",
      "green  open .geoip_databases     4D6A68zIS6WcupHXn1D40Q 1 0     40 37 37.8mb 37.8mb\n",
      "yellow open index_2              tJU1JLx0TpKZ-MCHL8eQRQ 1 1      0  0   226b   226b\n",
      "yellow open test-index           lcKzDyY9RcuXRrbrVPlOog 1 1      1  0  3.9kb  3.9kb\n",
      "yellow open index_3              m_GPK56ARleLwY9jaeQn9Q 1 1      0  0   226b   226b\n",
      "yellow open index_4              y7NmrmRHQiixhGWZ4cloww 1 1      0  0   226b   226b\n",
      "yellow open vendor               ozn40_EoRI602LOJQm-bNQ 1 1      0  0   226b   226b\n",
      "yellow open text_index_using_api BMq0CTKsQQKj3IipWNi4zg 1 1      0  0   226b   226b\n",
      "yellow open shakespeare          937YeH9kQX-PVKV66OQnDw 1 1 111396  0 17.8mb 17.8mb\n",
      "yellow open index_10             voQk2w7HRsmipK9pbRWSWQ 1 1      0  0   226b   226b\n",
      "yellow open english              Cpp9D2HdS5aWWQT-3zPcSg 1 1      1  0  3.9kb  3.9kb\n",
      "yellow open index_9              ibjV6qE0RwmJxIICiO5CyQ 1 1      0  0   226b   226b\n",
      "yellow open invoice              HVqw67jJSgirtil9eVzwlQ 1 1      0  0   226b   226b\n",
      "yellow open index_5              kPx4H3EPROisHUT_Uiw6JQ 1 1      0  0   226b   226b\n",
      "yellow open index_6              XfCBpK5oS36mK1KEyeAfEA 1 1      0  0   226b   226b\n",
      "yellow open index_7              aaRgDUAxT7aPFoQiX8QPkQ 1 1      0  0   226b   226b\n",
      "yellow open finance              EfdBEr-1RBy8_nZLbGlzwQ 1 1      0  0   226b   226b\n",
      "yellow open index_8              Y6Trp35ETBeJZ37enoSSBQ 1 1      0  0   226b   226b\n",
      "\n"
     ]
    }
   ],
   "source": [
    "import requests\n",
    "response=requests.get(\"http://localhost:9200/_cat/indices\")\n",
    "print(response.text)"
   ]
  }
 ],
 "metadata": {
  "kernelspec": {
   "display_name": "Python 3 (ipykernel)",
   "language": "python",
   "name": "python3"
  },
  "language_info": {
   "codemirror_mode": {
    "name": "ipython",
    "version": 3
   },
   "file_extension": ".py",
   "mimetype": "text/x-python",
   "name": "python",
   "nbconvert_exporter": "python",
   "pygments_lexer": "ipython3",
   "version": "3.9.7"
  }
 },
 "nbformat": 4,
 "nbformat_minor": 5
}
